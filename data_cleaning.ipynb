{
 "cells": [
  {
   "cell_type": "code",
   "execution_count": 5,
   "source": [
    "import pandas as pd\n",
    "import numpy as np"
   ],
   "outputs": [],
   "metadata": {}
  },
  {
   "cell_type": "code",
   "execution_count": 6,
   "source": [
    "file = \"./tracks.csv\"\n",
    "tracks_df = pd.read_csv(file, parse_dates=['release_date'],  infer_datetime_format=True)\n",
    "tracks_df = tracks_df.drop_duplicates()\n",
    "tracks_df = tracks_df.drop([\"key\", \"mode\", \"time_signature\", \"id\", \"id_artists\"], axis=1)\n",
    "tracks_df = tracks_df.loc[tracks_df[\"release_date\"] > \"2014-12-31\"]\n",
    "tracks_df[\"lower\"] = tracks_df[\"name\"].str.lower()\n",
    "remasters = tracks_df[tracks_df[\"lower\"].str.contains(\"remaster\")]\n",
    "tracks_df = tracks_df[tracks_df[\"lower\"].str.contains(\"remaster\") == False]\n",
    "tracks_df['release_date'] = pd.to_datetime(tracks_df['release_date'])\n",
    "tracks_df = tracks_df[tracks_df['speechiness'] <=.66]\n",
    "tracks_df = tracks_df.drop(['lower'], axis=1)\n",
    "tracks_df['duration_ms'] = tracks_df['duration_ms']/1000\n",
    "tracks_df.rename({'duration_ms':'duration_in_seconds'},axis=1,inplace=True)\n",
    "tracks_df['month'] = tracks_df['release_date'].dt.strftime('%Y, %-m')\n",
    "tracks_df['month'] = pd.to_datetime(tracks_df['month'])\n",
    "tracks_df['year'] = tracks_df['release_date'].dt.strftime('%Y')\n",
    "tracks_df['quarter'] = pd.PeriodIndex(tracks_df['release_date'], freq='Q')\n",
    "tracks_df.sort_values(by=['popularity'], ascending=False).head()\n",
    "output_path = \"./new_data_2.csv\"\n",
    "tracks_df.to_csv(output_path, index=True, header=True)"
   ],
   "outputs": [],
   "metadata": {}
  },
  {
   "cell_type": "code",
   "execution_count": null,
   "source": [],
   "outputs": [],
   "metadata": {}
  }
 ],
 "metadata": {
  "kernelspec": {
   "name": "python3",
   "display_name": "Python 3.8.8 64-bit ('base': conda)"
  },
  "language_info": {
   "codemirror_mode": {
    "name": "ipython",
    "version": 3
   },
   "file_extension": ".py",
   "mimetype": "text/x-python",
   "name": "python",
   "nbconvert_exporter": "python",
   "pygments_lexer": "ipython3",
   "version": "3.8.8"
  },
  "interpreter": {
   "hash": "aa882c7c2800d3ba2130968770ce072d83ef81b29570ab7ad0f6b9ccde7500a1"
  }
 },
 "nbformat": 4,
 "nbformat_minor": 5
}