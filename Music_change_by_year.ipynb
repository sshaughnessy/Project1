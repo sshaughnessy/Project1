{
 "cells": [
  {
   "cell_type": "code",
   "execution_count": 106,
   "id": "ed196e35",
   "metadata": {},
   "outputs": [],
   "source": [
    "#import dependencies\n",
    "import pandas as pd\n",
    "import numpy as np\n",
    "import matplotlib.pyplot as plt\n",
    "import scipy.stats as stats\n",
    "from statsmodels.multivariate.manova import MANOVA\n",
    "from statsmodels.formula.api import ols\n",
    "import statsmodels.api as sm"
   ]
  },
  {
   "cell_type": "code",
   "execution_count": 81,
   "id": "08f3ea8b",
   "metadata": {},
   "outputs": [
    {
     "data": {
      "text/html": [
       "<div>\n",
       "<style scoped>\n",
       "    .dataframe tbody tr th:only-of-type {\n",
       "        vertical-align: middle;\n",
       "    }\n",
       "\n",
       "    .dataframe tbody tr th {\n",
       "        vertical-align: top;\n",
       "    }\n",
       "\n",
       "    .dataframe thead th {\n",
       "        text-align: right;\n",
       "    }\n",
       "</style>\n",
       "<table border=\"1\" class=\"dataframe\">\n",
       "  <thead>\n",
       "    <tr style=\"text-align: right;\">\n",
       "      <th></th>\n",
       "      <th>Unnamed: 0</th>\n",
       "      <th>name</th>\n",
       "      <th>popularity</th>\n",
       "      <th>duration_in_seconds</th>\n",
       "      <th>explicit</th>\n",
       "      <th>artists</th>\n",
       "      <th>release_date</th>\n",
       "      <th>danceability</th>\n",
       "      <th>energy</th>\n",
       "      <th>loudness</th>\n",
       "      <th>speechiness</th>\n",
       "      <th>acousticness</th>\n",
       "      <th>instrumentalness</th>\n",
       "      <th>liveness</th>\n",
       "      <th>valence</th>\n",
       "      <th>tempo</th>\n",
       "      <th>month</th>\n",
       "      <th>year</th>\n",
       "      <th>quarter</th>\n",
       "    </tr>\n",
       "  </thead>\n",
       "  <tbody>\n",
       "    <tr>\n",
       "      <th>0</th>\n",
       "      <td>0</td>\n",
       "      <td>A Lover's Concerto</td>\n",
       "      <td>41</td>\n",
       "      <td>159.560</td>\n",
       "      <td>0</td>\n",
       "      <td>['The Toys']</td>\n",
       "      <td>2020-03-13</td>\n",
       "      <td>0.671</td>\n",
       "      <td>0.867</td>\n",
       "      <td>-2.706</td>\n",
       "      <td>0.0571</td>\n",
       "      <td>0.436</td>\n",
       "      <td>0.000000</td>\n",
       "      <td>0.1390</td>\n",
       "      <td>0.839</td>\n",
       "      <td>120.689</td>\n",
       "      <td>2020-03-01</td>\n",
       "      <td>2020</td>\n",
       "      <td>2020Q1</td>\n",
       "    </tr>\n",
       "    <tr>\n",
       "      <th>1</th>\n",
       "      <td>1</td>\n",
       "      <td>The September Of My Years - Live At The Sands ...</td>\n",
       "      <td>26</td>\n",
       "      <td>187.333</td>\n",
       "      <td>0</td>\n",
       "      <td>['Frank Sinatra']</td>\n",
       "      <td>2018-05-04</td>\n",
       "      <td>0.319</td>\n",
       "      <td>0.201</td>\n",
       "      <td>-17.796</td>\n",
       "      <td>0.0623</td>\n",
       "      <td>0.887</td>\n",
       "      <td>0.000000</td>\n",
       "      <td>0.9040</td>\n",
       "      <td>0.239</td>\n",
       "      <td>117.153</td>\n",
       "      <td>2018-05-01</td>\n",
       "      <td>2018</td>\n",
       "      <td>2018Q2</td>\n",
       "    </tr>\n",
       "    <tr>\n",
       "      <th>2</th>\n",
       "      <td>2</td>\n",
       "      <td>It Was A Very Good Year - Live At The Sands Ho...</td>\n",
       "      <td>25</td>\n",
       "      <td>236.800</td>\n",
       "      <td>0</td>\n",
       "      <td>['Frank Sinatra']</td>\n",
       "      <td>2018-05-04</td>\n",
       "      <td>0.269</td>\n",
       "      <td>0.129</td>\n",
       "      <td>-18.168</td>\n",
       "      <td>0.0576</td>\n",
       "      <td>0.938</td>\n",
       "      <td>0.000005</td>\n",
       "      <td>0.6830</td>\n",
       "      <td>0.160</td>\n",
       "      <td>82.332</td>\n",
       "      <td>2018-05-01</td>\n",
       "      <td>2018</td>\n",
       "      <td>2018Q2</td>\n",
       "    </tr>\n",
       "    <tr>\n",
       "      <th>3</th>\n",
       "      <td>3</td>\n",
       "      <td>The Circle Game - Live at The 2nd Fret, Philad...</td>\n",
       "      <td>18</td>\n",
       "      <td>313.093</td>\n",
       "      <td>0</td>\n",
       "      <td>['Joni Mitchell']</td>\n",
       "      <td>2020-10-30</td>\n",
       "      <td>0.644</td>\n",
       "      <td>0.212</td>\n",
       "      <td>-14.118</td>\n",
       "      <td>0.0347</td>\n",
       "      <td>0.881</td>\n",
       "      <td>0.000022</td>\n",
       "      <td>0.7980</td>\n",
       "      <td>0.441</td>\n",
       "      <td>117.072</td>\n",
       "      <td>2020-10-01</td>\n",
       "      <td>2020</td>\n",
       "      <td>2020Q4</td>\n",
       "    </tr>\n",
       "    <tr>\n",
       "      <th>4</th>\n",
       "      <td>4</td>\n",
       "      <td>Urge For Going - Live at The 2nd Fret, Philade...</td>\n",
       "      <td>18</td>\n",
       "      <td>295.093</td>\n",
       "      <td>0</td>\n",
       "      <td>['Joni Mitchell']</td>\n",
       "      <td>2020-10-30</td>\n",
       "      <td>0.627</td>\n",
       "      <td>0.184</td>\n",
       "      <td>-15.533</td>\n",
       "      <td>0.0450</td>\n",
       "      <td>0.955</td>\n",
       "      <td>0.000162</td>\n",
       "      <td>0.0986</td>\n",
       "      <td>0.299</td>\n",
       "      <td>115.864</td>\n",
       "      <td>2020-10-01</td>\n",
       "      <td>2020</td>\n",
       "      <td>2020Q4</td>\n",
       "    </tr>\n",
       "  </tbody>\n",
       "</table>\n",
       "</div>"
      ],
      "text/plain": [
       "   Unnamed: 0                                               name  popularity  \\\n",
       "0           0                                 A Lover's Concerto          41   \n",
       "1           1  The September Of My Years - Live At The Sands ...          26   \n",
       "2           2  It Was A Very Good Year - Live At The Sands Ho...          25   \n",
       "3           3  The Circle Game - Live at The 2nd Fret, Philad...          18   \n",
       "4           4  Urge For Going - Live at The 2nd Fret, Philade...          18   \n",
       "\n",
       "   duration_in_seconds  explicit            artists release_date  \\\n",
       "0              159.560         0       ['The Toys']   2020-03-13   \n",
       "1              187.333         0  ['Frank Sinatra']   2018-05-04   \n",
       "2              236.800         0  ['Frank Sinatra']   2018-05-04   \n",
       "3              313.093         0  ['Joni Mitchell']   2020-10-30   \n",
       "4              295.093         0  ['Joni Mitchell']   2020-10-30   \n",
       "\n",
       "   danceability  energy  loudness  speechiness  acousticness  \\\n",
       "0         0.671   0.867    -2.706       0.0571         0.436   \n",
       "1         0.319   0.201   -17.796       0.0623         0.887   \n",
       "2         0.269   0.129   -18.168       0.0576         0.938   \n",
       "3         0.644   0.212   -14.118       0.0347         0.881   \n",
       "4         0.627   0.184   -15.533       0.0450         0.955   \n",
       "\n",
       "   instrumentalness  liveness  valence    tempo       month  year quarter  \n",
       "0          0.000000    0.1390    0.839  120.689  2020-03-01  2020  2020Q1  \n",
       "1          0.000000    0.9040    0.239  117.153  2018-05-01  2018  2018Q2  \n",
       "2          0.000005    0.6830    0.160   82.332  2018-05-01  2018  2018Q2  \n",
       "3          0.000022    0.7980    0.441  117.072  2020-10-01  2020  2020Q4  \n",
       "4          0.000162    0.0986    0.299  115.864  2020-10-01  2020  2020Q4  "
      ]
     },
     "execution_count": 81,
     "metadata": {},
     "output_type": "execute_result"
    }
   ],
   "source": [
    "#create file variable for data set\n",
    "file = \"new_data_2.csv\"\n",
    "#read in csv file\n",
    "df = pd.read_csv(file)\n",
    "#show a snip of the data\n",
    "df.head()"
   ]
  },
  {
   "cell_type": "code",
   "execution_count": 82,
   "id": "40378ceb",
   "metadata": {},
   "outputs": [
    {
     "data": {
      "text/html": [
       "<div>\n",
       "<style scoped>\n",
       "    .dataframe tbody tr th:only-of-type {\n",
       "        vertical-align: middle;\n",
       "    }\n",
       "\n",
       "    .dataframe tbody tr th {\n",
       "        vertical-align: top;\n",
       "    }\n",
       "\n",
       "    .dataframe thead th {\n",
       "        text-align: right;\n",
       "    }\n",
       "</style>\n",
       "<table border=\"1\" class=\"dataframe\">\n",
       "  <thead>\n",
       "    <tr style=\"text-align: right;\">\n",
       "      <th></th>\n",
       "      <th>name</th>\n",
       "      <th>popularity</th>\n",
       "      <th>duration_in_seconds</th>\n",
       "      <th>explicit</th>\n",
       "      <th>artists</th>\n",
       "      <th>release_date</th>\n",
       "      <th>danceability</th>\n",
       "      <th>energy</th>\n",
       "      <th>loudness</th>\n",
       "      <th>speechiness</th>\n",
       "      <th>acousticness</th>\n",
       "      <th>instrumentalness</th>\n",
       "      <th>liveness</th>\n",
       "      <th>valence</th>\n",
       "      <th>tempo</th>\n",
       "      <th>month</th>\n",
       "      <th>year</th>\n",
       "      <th>quarter</th>\n",
       "    </tr>\n",
       "  </thead>\n",
       "  <tbody>\n",
       "    <tr>\n",
       "      <th>0</th>\n",
       "      <td>A Lover's Concerto</td>\n",
       "      <td>41</td>\n",
       "      <td>159.560</td>\n",
       "      <td>0</td>\n",
       "      <td>['The Toys']</td>\n",
       "      <td>2020-03-13</td>\n",
       "      <td>0.671</td>\n",
       "      <td>0.867</td>\n",
       "      <td>-2.706</td>\n",
       "      <td>0.0571</td>\n",
       "      <td>0.436</td>\n",
       "      <td>0.000000</td>\n",
       "      <td>0.1390</td>\n",
       "      <td>0.839</td>\n",
       "      <td>120.689</td>\n",
       "      <td>2020-03-01</td>\n",
       "      <td>2020</td>\n",
       "      <td>2020Q1</td>\n",
       "    </tr>\n",
       "    <tr>\n",
       "      <th>1</th>\n",
       "      <td>The September Of My Years - Live At The Sands ...</td>\n",
       "      <td>26</td>\n",
       "      <td>187.333</td>\n",
       "      <td>0</td>\n",
       "      <td>['Frank Sinatra']</td>\n",
       "      <td>2018-05-04</td>\n",
       "      <td>0.319</td>\n",
       "      <td>0.201</td>\n",
       "      <td>-17.796</td>\n",
       "      <td>0.0623</td>\n",
       "      <td>0.887</td>\n",
       "      <td>0.000000</td>\n",
       "      <td>0.9040</td>\n",
       "      <td>0.239</td>\n",
       "      <td>117.153</td>\n",
       "      <td>2018-05-01</td>\n",
       "      <td>2018</td>\n",
       "      <td>2018Q2</td>\n",
       "    </tr>\n",
       "    <tr>\n",
       "      <th>2</th>\n",
       "      <td>It Was A Very Good Year - Live At The Sands Ho...</td>\n",
       "      <td>25</td>\n",
       "      <td>236.800</td>\n",
       "      <td>0</td>\n",
       "      <td>['Frank Sinatra']</td>\n",
       "      <td>2018-05-04</td>\n",
       "      <td>0.269</td>\n",
       "      <td>0.129</td>\n",
       "      <td>-18.168</td>\n",
       "      <td>0.0576</td>\n",
       "      <td>0.938</td>\n",
       "      <td>0.000005</td>\n",
       "      <td>0.6830</td>\n",
       "      <td>0.160</td>\n",
       "      <td>82.332</td>\n",
       "      <td>2018-05-01</td>\n",
       "      <td>2018</td>\n",
       "      <td>2018Q2</td>\n",
       "    </tr>\n",
       "    <tr>\n",
       "      <th>3</th>\n",
       "      <td>The Circle Game - Live at The 2nd Fret, Philad...</td>\n",
       "      <td>18</td>\n",
       "      <td>313.093</td>\n",
       "      <td>0</td>\n",
       "      <td>['Joni Mitchell']</td>\n",
       "      <td>2020-10-30</td>\n",
       "      <td>0.644</td>\n",
       "      <td>0.212</td>\n",
       "      <td>-14.118</td>\n",
       "      <td>0.0347</td>\n",
       "      <td>0.881</td>\n",
       "      <td>0.000022</td>\n",
       "      <td>0.7980</td>\n",
       "      <td>0.441</td>\n",
       "      <td>117.072</td>\n",
       "      <td>2020-10-01</td>\n",
       "      <td>2020</td>\n",
       "      <td>2020Q4</td>\n",
       "    </tr>\n",
       "    <tr>\n",
       "      <th>4</th>\n",
       "      <td>Urge For Going - Live at The 2nd Fret, Philade...</td>\n",
       "      <td>18</td>\n",
       "      <td>295.093</td>\n",
       "      <td>0</td>\n",
       "      <td>['Joni Mitchell']</td>\n",
       "      <td>2020-10-30</td>\n",
       "      <td>0.627</td>\n",
       "      <td>0.184</td>\n",
       "      <td>-15.533</td>\n",
       "      <td>0.0450</td>\n",
       "      <td>0.955</td>\n",
       "      <td>0.000162</td>\n",
       "      <td>0.0986</td>\n",
       "      <td>0.299</td>\n",
       "      <td>115.864</td>\n",
       "      <td>2020-10-01</td>\n",
       "      <td>2020</td>\n",
       "      <td>2020Q4</td>\n",
       "    </tr>\n",
       "  </tbody>\n",
       "</table>\n",
       "</div>"
      ],
      "text/plain": [
       "                                                name  popularity  \\\n",
       "0                                 A Lover's Concerto          41   \n",
       "1  The September Of My Years - Live At The Sands ...          26   \n",
       "2  It Was A Very Good Year - Live At The Sands Ho...          25   \n",
       "3  The Circle Game - Live at The 2nd Fret, Philad...          18   \n",
       "4  Urge For Going - Live at The 2nd Fret, Philade...          18   \n",
       "\n",
       "   duration_in_seconds  explicit            artists release_date  \\\n",
       "0              159.560         0       ['The Toys']   2020-03-13   \n",
       "1              187.333         0  ['Frank Sinatra']   2018-05-04   \n",
       "2              236.800         0  ['Frank Sinatra']   2018-05-04   \n",
       "3              313.093         0  ['Joni Mitchell']   2020-10-30   \n",
       "4              295.093         0  ['Joni Mitchell']   2020-10-30   \n",
       "\n",
       "   danceability  energy  loudness  speechiness  acousticness  \\\n",
       "0         0.671   0.867    -2.706       0.0571         0.436   \n",
       "1         0.319   0.201   -17.796       0.0623         0.887   \n",
       "2         0.269   0.129   -18.168       0.0576         0.938   \n",
       "3         0.644   0.212   -14.118       0.0347         0.881   \n",
       "4         0.627   0.184   -15.533       0.0450         0.955   \n",
       "\n",
       "   instrumentalness  liveness  valence    tempo       month  year quarter  \n",
       "0          0.000000    0.1390    0.839  120.689  2020-03-01  2020  2020Q1  \n",
       "1          0.000000    0.9040    0.239  117.153  2018-05-01  2018  2018Q2  \n",
       "2          0.000005    0.6830    0.160   82.332  2018-05-01  2018  2018Q2  \n",
       "3          0.000022    0.7980    0.441  117.072  2020-10-01  2020  2020Q4  \n",
       "4          0.000162    0.0986    0.299  115.864  2020-10-01  2020  2020Q4  "
      ]
     },
     "execution_count": 82,
     "metadata": {},
     "output_type": "execute_result"
    }
   ],
   "source": [
    "#remove unnamed 0 column\n",
    "df.drop(columns=df.columns[0], axis=1, inplace = True)\n",
    "df.head()"
   ]
  },
  {
   "cell_type": "code",
   "execution_count": 83,
   "id": "088ace7b",
   "metadata": {},
   "outputs": [
    {
     "data": {
      "text/plain": [
       "name                    object\n",
       "popularity               int64\n",
       "duration_in_seconds    float64\n",
       "explicit                 int64\n",
       "artists                 object\n",
       "release_date            object\n",
       "danceability           float64\n",
       "energy                 float64\n",
       "loudness               float64\n",
       "speechiness            float64\n",
       "acousticness           float64\n",
       "instrumentalness       float64\n",
       "liveness               float64\n",
       "valence                float64\n",
       "tempo                  float64\n",
       "month                   object\n",
       "year                     int64\n",
       "quarter                 object\n",
       "dtype: object"
      ]
     },
     "execution_count": 83,
     "metadata": {},
     "output_type": "execute_result"
    }
   ],
   "source": [
    "#see the data types by column\n",
    "df.dtypes"
   ]
  },
  {
   "cell_type": "code",
   "execution_count": 84,
   "id": "5341db44",
   "metadata": {},
   "outputs": [
    {
     "data": {
      "text/html": [
       "<div>\n",
       "<style scoped>\n",
       "    .dataframe tbody tr th:only-of-type {\n",
       "        vertical-align: middle;\n",
       "    }\n",
       "\n",
       "    .dataframe tbody tr th {\n",
       "        vertical-align: top;\n",
       "    }\n",
       "\n",
       "    .dataframe thead th {\n",
       "        text-align: right;\n",
       "    }\n",
       "</style>\n",
       "<table border=\"1\" class=\"dataframe\">\n",
       "  <thead>\n",
       "    <tr style=\"text-align: right;\">\n",
       "      <th></th>\n",
       "      <th>danceability</th>\n",
       "      <th>energy</th>\n",
       "      <th>speechiness</th>\n",
       "      <th>acousticness</th>\n",
       "      <th>valence</th>\n",
       "      <th>explicit</th>\n",
       "    </tr>\n",
       "    <tr>\n",
       "      <th>year</th>\n",
       "      <th></th>\n",
       "      <th></th>\n",
       "      <th></th>\n",
       "      <th></th>\n",
       "      <th></th>\n",
       "      <th></th>\n",
       "    </tr>\n",
       "  </thead>\n",
       "  <tbody>\n",
       "    <tr>\n",
       "      <th>2015</th>\n",
       "      <td>0.598816</td>\n",
       "      <td>0.650896</td>\n",
       "      <td>0.084369</td>\n",
       "      <td>0.293570</td>\n",
       "      <td>0.508292</td>\n",
       "      <td>0.102785</td>\n",
       "    </tr>\n",
       "    <tr>\n",
       "      <th>2016</th>\n",
       "      <td>0.607457</td>\n",
       "      <td>0.658413</td>\n",
       "      <td>0.093959</td>\n",
       "      <td>0.282334</td>\n",
       "      <td>0.495939</td>\n",
       "      <td>0.125638</td>\n",
       "    </tr>\n",
       "    <tr>\n",
       "      <th>2017</th>\n",
       "      <td>0.625758</td>\n",
       "      <td>0.659662</td>\n",
       "      <td>0.100114</td>\n",
       "      <td>0.278274</td>\n",
       "      <td>0.493427</td>\n",
       "      <td>0.172290</td>\n",
       "    </tr>\n",
       "    <tr>\n",
       "      <th>2018</th>\n",
       "      <td>0.635623</td>\n",
       "      <td>0.653849</td>\n",
       "      <td>0.105013</td>\n",
       "      <td>0.276002</td>\n",
       "      <td>0.482426</td>\n",
       "      <td>0.190201</td>\n",
       "    </tr>\n",
       "    <tr>\n",
       "      <th>2019</th>\n",
       "      <td>0.650893</td>\n",
       "      <td>0.636790</td>\n",
       "      <td>0.110389</td>\n",
       "      <td>0.293986</td>\n",
       "      <td>0.493060</td>\n",
       "      <td>0.216755</td>\n",
       "    </tr>\n",
       "    <tr>\n",
       "      <th>2020</th>\n",
       "      <td>0.658587</td>\n",
       "      <td>0.639914</td>\n",
       "      <td>0.111564</td>\n",
       "      <td>0.271072</td>\n",
       "      <td>0.501836</td>\n",
       "      <td>0.219853</td>\n",
       "    </tr>\n",
       "    <tr>\n",
       "      <th>2021</th>\n",
       "      <td>0.668219</td>\n",
       "      <td>0.608707</td>\n",
       "      <td>0.126650</td>\n",
       "      <td>0.288460</td>\n",
       "      <td>0.495748</td>\n",
       "      <td>0.275410</td>\n",
       "    </tr>\n",
       "  </tbody>\n",
       "</table>\n",
       "</div>"
      ],
      "text/plain": [
       "      danceability    energy  speechiness  acousticness   valence  explicit\n",
       "year                                                                       \n",
       "2015      0.598816  0.650896     0.084369      0.293570  0.508292  0.102785\n",
       "2016      0.607457  0.658413     0.093959      0.282334  0.495939  0.125638\n",
       "2017      0.625758  0.659662     0.100114      0.278274  0.493427  0.172290\n",
       "2018      0.635623  0.653849     0.105013      0.276002  0.482426  0.190201\n",
       "2019      0.650893  0.636790     0.110389      0.293986  0.493060  0.216755\n",
       "2020      0.658587  0.639914     0.111564      0.271072  0.501836  0.219853\n",
       "2021      0.668219  0.608707     0.126650      0.288460  0.495748  0.275410"
      ]
     },
     "execution_count": 84,
     "metadata": {},
     "output_type": "execute_result"
    }
   ],
   "source": [
    "#groupby year and aggregate means of our chosen metrics\n",
    "grouped_avg = df.groupby(\"year\").agg({\"danceability\": \"mean\",\"energy\":\"mean\", \"speechiness\":\"mean\", \n",
    "                                      \"acousticness\":\"mean\", \"valence\":\"mean\", \"explicit\":\"mean\"})\n",
    "grouped_avg"
   ]
  },
  {
   "cell_type": "code",
   "execution_count": 85,
   "id": "160b3b63",
   "metadata": {},
   "outputs": [
    {
     "data": {
      "text/plain": [
       "<matplotlib.legend.Legend at 0x17758000eb0>"
      ]
     },
     "execution_count": 85,
     "metadata": {},
     "output_type": "execute_result"
    },
    {
     "data": {
      "image/png": "[encoded data removed]",
      "text/plain": [
       "<Figure size 432x288 with 1 Axes>"
      ]
     },
     "metadata": {
      "needs_background": "light"
     },
     "output_type": "display_data"
    }
   ],
   "source": [
    "# plot mean metrics by year on a line chart\n",
    "plt.plot(grouped_avg,marker =\"o\")\n",
    "plt.xlabel(\"Year\")\n",
    "plt.ylabel(\"Average Score (0-1 scale)\")\n",
    "plt.title(\"Average Metric Score by Year\")\n",
    "plt.legend([\"danceability\", \"energy\", \"speechiness\", \"acousticness\", \"valence\", \"explicit\"],bbox_to_anchor=(1.05, 1), loc='upper left')"
   ]
  },
  {
   "cell_type": "code",
   "execution_count": 86,
   "id": "7e16f5cc",
   "metadata": {},
   "outputs": [
    {
     "data": {
      "text/plain": [
       "<AxesSubplot:xlabel='year'>"
      ]
     },
     "execution_count": 86,
     "metadata": {},
     "output_type": "execute_result"
    },
    {
     "data": {
      "image/png": "[encoded data removed]",
      "text/plain": [
       "<Figure size 432x288 with 1 Axes>"
      ]
     },
     "metadata": {
      "needs_background": "light"
     },
     "output_type": "display_data"
    }
   ],
   "source": [
    "#danceability increasing, energy decreasing, explicit increasing. 3 factors to dig into more\n",
    "\n",
    "#split into two graphs, top 3 and bottom 3 to better see scale\n",
    "discrete_g1 = df.groupby(\"year\").agg({\"danceability\":\"mean\", \"energy\":\"mean\", \"valence\":\"mean\"})\n",
    "discrete_g1.plot()"
   ]
  },
  {
   "cell_type": "code",
   "execution_count": 87,
   "id": "d0d16596",
   "metadata": {},
   "outputs": [
    {
     "data": {
      "text/plain": [
       "<AxesSubplot:xlabel='year'>"
      ]
     },
     "execution_count": 87,
     "metadata": {},
     "output_type": "execute_result"
    },
    {
     "data": {
      "image/png": "[encoded data removed]",
      "text/plain": [
       "<Figure size 432x288 with 1 Axes>"
      ]
     },
     "metadata": {
      "needs_background": "light"
     },
     "output_type": "display_data"
    }
   ],
   "source": [
    "# split into two graphs to better see scale\n",
    "discrete_g2 = df.groupby(\"year\").agg({\"acousticness\":\"mean\", \"explicit\":\"mean\", \"speechiness\":\"mean\"})\n",
    "discrete_g2.plot()"
   ]
  },
  {
   "cell_type": "code",
   "execution_count": 88,
   "id": "937aa634",
   "metadata": {},
   "outputs": [
    {
     "data": {
      "text/html": [
       "<div>\n",
       "<style scoped>\n",
       "    .dataframe tbody tr th:only-of-type {\n",
       "        vertical-align: middle;\n",
       "    }\n",
       "\n",
       "    .dataframe tbody tr th {\n",
       "        vertical-align: top;\n",
       "    }\n",
       "\n",
       "    .dataframe thead th {\n",
       "        text-align: right;\n",
       "    }\n",
       "</style>\n",
       "<table border=\"1\" class=\"dataframe\">\n",
       "  <thead>\n",
       "    <tr style=\"text-align: right;\">\n",
       "      <th></th>\n",
       "      <th>name</th>\n",
       "      <th>popularity</th>\n",
       "      <th>duration_in_seconds</th>\n",
       "      <th>explicit</th>\n",
       "      <th>artists</th>\n",
       "      <th>release_date</th>\n",
       "      <th>danceability</th>\n",
       "      <th>energy</th>\n",
       "      <th>loudness</th>\n",
       "      <th>speechiness</th>\n",
       "      <th>acousticness</th>\n",
       "      <th>instrumentalness</th>\n",
       "      <th>liveness</th>\n",
       "      <th>valence</th>\n",
       "      <th>tempo</th>\n",
       "      <th>month</th>\n",
       "      <th>year</th>\n",
       "      <th>quarter</th>\n",
       "      <th>time_period</th>\n",
       "    </tr>\n",
       "  </thead>\n",
       "  <tbody>\n",
       "    <tr>\n",
       "      <th>0</th>\n",
       "      <td>A Lover's Concerto</td>\n",
       "      <td>41</td>\n",
       "      <td>159.560</td>\n",
       "      <td>0</td>\n",
       "      <td>['The Toys']</td>\n",
       "      <td>2020-03-13</td>\n",
       "      <td>0.671</td>\n",
       "      <td>0.867</td>\n",
       "      <td>-2.706</td>\n",
       "      <td>0.0571</td>\n",
       "      <td>0.436</td>\n",
       "      <td>0.000000</td>\n",
       "      <td>0.1390</td>\n",
       "      <td>0.839</td>\n",
       "      <td>120.689</td>\n",
       "      <td>2020-03-01</td>\n",
       "      <td>2020</td>\n",
       "      <td>2020Q1</td>\n",
       "      <td>covid</td>\n",
       "    </tr>\n",
       "    <tr>\n",
       "      <th>1</th>\n",
       "      <td>The September Of My Years - Live At The Sands ...</td>\n",
       "      <td>26</td>\n",
       "      <td>187.333</td>\n",
       "      <td>0</td>\n",
       "      <td>['Frank Sinatra']</td>\n",
       "      <td>2018-05-04</td>\n",
       "      <td>0.319</td>\n",
       "      <td>0.201</td>\n",
       "      <td>-17.796</td>\n",
       "      <td>0.0623</td>\n",
       "      <td>0.887</td>\n",
       "      <td>0.000000</td>\n",
       "      <td>0.9040</td>\n",
       "      <td>0.239</td>\n",
       "      <td>117.153</td>\n",
       "      <td>2018-05-01</td>\n",
       "      <td>2018</td>\n",
       "      <td>2018Q2</td>\n",
       "      <td>pre-covid</td>\n",
       "    </tr>\n",
       "    <tr>\n",
       "      <th>2</th>\n",
       "      <td>It Was A Very Good Year - Live At The Sands Ho...</td>\n",
       "      <td>25</td>\n",
       "      <td>236.800</td>\n",
       "      <td>0</td>\n",
       "      <td>['Frank Sinatra']</td>\n",
       "      <td>2018-05-04</td>\n",
       "      <td>0.269</td>\n",
       "      <td>0.129</td>\n",
       "      <td>-18.168</td>\n",
       "      <td>0.0576</td>\n",
       "      <td>0.938</td>\n",
       "      <td>0.000005</td>\n",
       "      <td>0.6830</td>\n",
       "      <td>0.160</td>\n",
       "      <td>82.332</td>\n",
       "      <td>2018-05-01</td>\n",
       "      <td>2018</td>\n",
       "      <td>2018Q2</td>\n",
       "      <td>pre-covid</td>\n",
       "    </tr>\n",
       "    <tr>\n",
       "      <th>3</th>\n",
       "      <td>The Circle Game - Live at The 2nd Fret, Philad...</td>\n",
       "      <td>18</td>\n",
       "      <td>313.093</td>\n",
       "      <td>0</td>\n",
       "      <td>['Joni Mitchell']</td>\n",
       "      <td>2020-10-30</td>\n",
       "      <td>0.644</td>\n",
       "      <td>0.212</td>\n",
       "      <td>-14.118</td>\n",
       "      <td>0.0347</td>\n",
       "      <td>0.881</td>\n",
       "      <td>0.000022</td>\n",
       "      <td>0.7980</td>\n",
       "      <td>0.441</td>\n",
       "      <td>117.072</td>\n",
       "      <td>2020-10-01</td>\n",
       "      <td>2020</td>\n",
       "      <td>2020Q4</td>\n",
       "      <td>covid</td>\n",
       "    </tr>\n",
       "    <tr>\n",
       "      <th>4</th>\n",
       "      <td>Urge For Going - Live at The 2nd Fret, Philade...</td>\n",
       "      <td>18</td>\n",
       "      <td>295.093</td>\n",
       "      <td>0</td>\n",
       "      <td>['Joni Mitchell']</td>\n",
       "      <td>2020-10-30</td>\n",
       "      <td>0.627</td>\n",
       "      <td>0.184</td>\n",
       "      <td>-15.533</td>\n",
       "      <td>0.0450</td>\n",
       "      <td>0.955</td>\n",
       "      <td>0.000162</td>\n",
       "      <td>0.0986</td>\n",
       "      <td>0.299</td>\n",
       "      <td>115.864</td>\n",
       "      <td>2020-10-01</td>\n",
       "      <td>2020</td>\n",
       "      <td>2020Q4</td>\n",
       "      <td>covid</td>\n",
       "    </tr>\n",
       "  </tbody>\n",
       "</table>\n",
       "</div>"
      ],
      "text/plain": [
       "                                                name  popularity  \\\n",
       "0                                 A Lover's Concerto          41   \n",
       "1  The September Of My Years - Live At The Sands ...          26   \n",
       "2  It Was A Very Good Year - Live At The Sands Ho...          25   \n",
       "3  The Circle Game - Live at The 2nd Fret, Philad...          18   \n",
       "4  Urge For Going - Live at The 2nd Fret, Philade...          18   \n",
       "\n",
       "   duration_in_seconds  explicit            artists release_date  \\\n",
       "0              159.560         0       ['The Toys']   2020-03-13   \n",
       "1              187.333         0  ['Frank Sinatra']   2018-05-04   \n",
       "2              236.800         0  ['Frank Sinatra']   2018-05-04   \n",
       "3              313.093         0  ['Joni Mitchell']   2020-10-30   \n",
       "4              295.093         0  ['Joni Mitchell']   2020-10-30   \n",
       "\n",
       "   danceability  energy  loudness  speechiness  acousticness  \\\n",
       "0         0.671   0.867    -2.706       0.0571         0.436   \n",
       "1         0.319   0.201   -17.796       0.0623         0.887   \n",
       "2         0.269   0.129   -18.168       0.0576         0.938   \n",
       "3         0.644   0.212   -14.118       0.0347         0.881   \n",
       "4         0.627   0.184   -15.533       0.0450         0.955   \n",
       "\n",
       "   instrumentalness  liveness  valence    tempo       month  year quarter  \\\n",
       "0          0.000000    0.1390    0.839  120.689  2020-03-01  2020  2020Q1   \n",
       "1          0.000000    0.9040    0.239  117.153  2018-05-01  2018  2018Q2   \n",
       "2          0.000005    0.6830    0.160   82.332  2018-05-01  2018  2018Q2   \n",
       "3          0.000022    0.7980    0.441  117.072  2020-10-01  2020  2020Q4   \n",
       "4          0.000162    0.0986    0.299  115.864  2020-10-01  2020  2020Q4   \n",
       "\n",
       "  time_period  \n",
       "0       covid  \n",
       "1   pre-covid  \n",
       "2   pre-covid  \n",
       "3       covid  \n",
       "4       covid  "
      ]
     },
     "execution_count": 88,
     "metadata": {},
     "output_type": "execute_result"
    }
   ],
   "source": [
    "# create a timeperiod column that shows pre covid and covid time period\n",
    "# pre covid = 1/1/15 thru 12/31/19\n",
    "# covid = 1/1/20 thru 4/30/21\n",
    "conditions = [df[\"year\"] <=2019, df[\"year\"] >= 2020]\n",
    "values = [\"pre-covid\", \"covid\"]\n",
    "df[\"time_period\"] = np.select(conditions, values)\n",
    "df.head()"
   ]
  },
  {
   "cell_type": "code",
   "execution_count": 89,
   "id": "057e5dee",
   "metadata": {},
   "outputs": [
    {
     "data": {
      "text/plain": [
       "<AxesSubplot:xlabel='time_period'>"
      ]
     },
     "execution_count": 89,
     "metadata": {},
     "output_type": "execute_result"
    },
    {
     "data": {
      "image/png": "[encoded data removed]",
      "text/plain": [
       "<Figure size 432x288 with 1 Axes>"
      ]
     },
     "metadata": {
      "needs_background": "light"
     },
     "output_type": "display_data"
    }
   ],
   "source": [
    "#group by time period and aggregate means of selected metrics\n",
    "tp_group = df.groupby(\"time_period\").agg({\"danceability\": \"mean\",\"energy\":\"mean\", \"speechiness\":\"mean\", \n",
    "                                      \"acousticness\":\"mean\", \"valence\":\"mean\", \"explicit\":\"mean\"})\n",
    "#plot a bar chart\n",
    "tp_group.plot(kind=\"bar\")"
   ]
  },
  {
   "cell_type": "code",
   "execution_count": 90,
   "id": "443a93e8",
   "metadata": {},
   "outputs": [],
   "source": [
    "#null hypothesis - danceability scores of songs released did not increase by a statistically\\\n",
    "# significant margin during the covid period (defined as 1/1/20 - 4/30/21)\\\n",
    "# as compared to the control period (1/1/15 - 12/31/19) \n",
    "\n",
    "#alt hypothesis - danceability scores of songs released increased by a statistically \\\n",
    "# significant margin during the covid period (defined as 1/1/20 - 4/30/21) as compared\\\n",
    "# to the control period (1/1/15 - 12/31/19)"
   ]
  },
  {
   "cell_type": "code",
   "execution_count": 91,
   "id": "a1bec618",
   "metadata": {},
   "outputs": [
    {
     "data": {
      "text/plain": [
       "0.6244051452500314"
      ]
     },
     "execution_count": 91,
     "metadata": {},
     "output_type": "execute_result"
    }
   ],
   "source": [
    "# two sample t test\n",
    "#create t test population 1\n",
    "population1 = df[df[\"time_period\"] == \"pre-covid\"]\n",
    "population1.danceability.mean()"
   ]
  },
  {
   "cell_type": "code",
   "execution_count": 92,
   "id": "9948fc64",
   "metadata": {},
   "outputs": [
    {
     "data": {
      "text/plain": [
       "0.6614205373195655"
      ]
     },
     "execution_count": 92,
     "metadata": {},
     "output_type": "execute_result"
    }
   ],
   "source": [
    "#create t test population 2\n",
    "population2 = df[df[\"time_period\"] == \"covid\"]\n",
    "population2.danceability.mean()"
   ]
  },
  {
   "cell_type": "code",
   "execution_count": 93,
   "id": "601af8f4",
   "metadata": {},
   "outputs": [
    {
     "data": {
      "text/plain": [
       "Ttest_indResult(statistic=-28.064263796708662, pvalue=2.052586935813239e-171)"
      ]
     },
     "execution_count": 93,
     "metadata": {},
     "output_type": "execute_result"
    }
   ],
   "source": [
    "#run t test\n",
    "stats.ttest_ind(population1.danceability, population2.danceability, equal_var=False)"
   ]
  },
  {
   "cell_type": "code",
   "execution_count": 94,
   "id": "5827aabe",
   "metadata": {},
   "outputs": [],
   "source": [
    "#result indicates that we can reject the null hypothesis, and danceability is statistically different between the time periods"
   ]
  },
  {
   "cell_type": "code",
   "execution_count": 100,
   "id": "67e58694",
   "metadata": {},
   "outputs": [],
   "source": [
    "# further statistical analysis with MANOVA\n",
    "# does the time_period have a significant contribution to our dependent variables (music metrics)\n",
    "maov = MANOVA.from_formula('danceability + energy + speechiness + acousticness + valence + explicit ~ time_period', data=df)"
   ]
  },
  {
   "cell_type": "code",
   "execution_count": 101,
   "id": "57c76f70",
   "metadata": {},
   "outputs": [
    {
     "name": "stdout",
     "output_type": "stream",
     "text": [
      "                     Multivariate linear model\n",
      "====================================================================\n",
      "                                                                    \n",
      "--------------------------------------------------------------------\n",
      "       Intercept         Value  Num DF   Den DF     F Value   Pr > F\n",
      "--------------------------------------------------------------------\n",
      "          Wilks' lambda  0.0784 6.0000 72713.0000 142420.5361 0.0000\n",
      "         Pillai's trace  0.9216 6.0000 72713.0000 142420.5361 0.0000\n",
      " Hotelling-Lawley trace 11.7520 6.0000 72713.0000 142420.5361 0.0000\n",
      "    Roy's greatest root 11.7520 6.0000 72713.0000 142420.5361 0.0000\n",
      "--------------------------------------------------------------------\n",
      "                                                                    \n",
      "--------------------------------------------------------------------\n",
      "          time_period       Value  Num DF   Den DF   F Value  Pr > F\n",
      "--------------------------------------------------------------------\n",
      "              Wilks' lambda 0.9800 6.0000 72713.0000 246.8889 0.0000\n",
      "             Pillai's trace 0.0200 6.0000 72713.0000 246.8889 0.0000\n",
      "     Hotelling-Lawley trace 0.0204 6.0000 72713.0000 246.8889 0.0000\n",
      "        Roy's greatest root 0.0204 6.0000 72713.0000 246.8889 0.0000\n",
      "====================================================================\n",
      "\n"
     ]
    }
   ],
   "source": [
    "print(maov.mv_test())"
   ]
  },
  {
   "cell_type": "code",
   "execution_count": null,
   "id": "03733b7b",
   "metadata": {},
   "outputs": [],
   "source": [
    "# time_period does significantly contribute to the dependent music metrics for songs released as demonstrated by the p val < .05\\\n",
    "# however, the Wilks' lamda score (ranging 0-1) is very far from zero.\\\n",
    "# meaning, the time_period does significantly contribute to the metrics, but not overwhelmingly so (e.g. 1- wilks' lamba of .98 = .02 explained by time_period)"
   ]
  },
  {
   "cell_type": "code",
   "execution_count": 102,
   "id": "d57fa5eb",
   "metadata": {},
   "outputs": [
    {
     "data": {
      "text/plain": [
       "0.008333333333333333"
      ]
     },
     "execution_count": 102,
     "metadata": {},
     "output_type": "execute_result"
    }
   ],
   "source": [
    "# do a aov to ensure no type 1 error\n",
    "# relative threshold = confidence level/# dependents\n",
    "rel_threshold = .05/6\n",
    "rel_threshold"
   ]
  },
  {
   "cell_type": "code",
   "execution_count": 107,
   "id": "11ac0ff4",
   "metadata": {},
   "outputs": [
    {
     "name": "stdout",
     "output_type": "stream",
     "text": [
      "                  df       sum_sq    mean_sq           F         PR(>F)\n",
      "time_period      1.0    19.532325  19.532325  771.595112  6.207317e-169\n",
      "Residual     72718.0  1840.799141   0.025314         NaN            NaN\n"
     ]
    }
   ],
   "source": [
    "#check danceability\n",
    "reg1 = ols('danceability~time_period', data=df).fit()\n",
    "aov = sm.stats.anova_lm(reg1, type=2)\n",
    "print(aov)"
   ]
  },
  {
   "cell_type": "code",
   "execution_count": null,
   "id": "7f15d1c8",
   "metadata": {},
   "outputs": [],
   "source": [
    "#danceability is below relative threshold, therefore there is a significant difference in danceability between timeperiods"
   ]
  },
  {
   "cell_type": "code",
   "execution_count": 109,
   "id": "55d12a9d",
   "metadata": {},
   "outputs": [
    {
     "name": "stdout",
     "output_type": "stream",
     "text": [
      "                  df       sum_sq   mean_sq           F        PR(>F)\n",
      "time_period      1.0     6.153001  6.153001  138.413284  6.326821e-32\n",
      "Residual     72718.0  3232.593592  0.044454         NaN           NaN\n"
     ]
    }
   ],
   "source": [
    "#check energy\n",
    "reg2 = ols('energy~time_period', data=df).fit()\n",
    "aov = sm.stats.anova_lm(reg2, type=2)\n",
    "print(aov)"
   ]
  },
  {
   "cell_type": "code",
   "execution_count": null,
   "id": "aeaafda1",
   "metadata": {},
   "outputs": [],
   "source": [
    "#energy is below relative threshold, therefore there is a significant difference in energy between timeperiods"
   ]
  },
  {
   "cell_type": "code",
   "execution_count": 110,
   "id": "64009c79",
   "metadata": {},
   "outputs": [
    {
     "name": "stdout",
     "output_type": "stream",
     "text": [
      "                  df      sum_sq   mean_sq           F        PR(>F)\n",
      "time_period      1.0    4.074887  4.074887  396.908672  4.460944e-88\n",
      "Residual     72718.0  746.563687  0.010267         NaN           NaN\n"
     ]
    }
   ],
   "source": [
    "#check speechiness\n",
    "reg3 = ols('speechiness~time_period', data=df).fit()\n",
    "aov = sm.stats.anova_lm(reg3, type=2)\n",
    "print(aov)"
   ]
  },
  {
   "cell_type": "code",
   "execution_count": null,
   "id": "074ca5bf",
   "metadata": {},
   "outputs": [],
   "source": [
    "#speechiness is below relative threshold, therefore there is a significant difference in speechiness between timeperiods"
   ]
  },
  {
   "cell_type": "code",
   "execution_count": 111,
   "id": "42117389",
   "metadata": {},
   "outputs": [
    {
     "name": "stdout",
     "output_type": "stream",
     "text": [
      "                  df       sum_sq   mean_sq          F  PR(>F)\n",
      "time_period      1.0     1.118379  1.118379  13.836066  0.0002\n",
      "Residual     72718.0  5877.846411  0.080831        NaN     NaN\n"
     ]
    }
   ],
   "source": [
    "#check acousticness\n",
    "reg4 = ols('acousticness~time_period', data=df).fit()\n",
    "aov = sm.stats.anova_lm(reg4, type=2)\n",
    "print(aov)"
   ]
  },
  {
   "cell_type": "code",
   "execution_count": null,
   "id": "0ea5c786",
   "metadata": {},
   "outputs": [],
   "source": [
    "#acousticness is below relative threshold, therefore there is a significant difference in acousticness between timeperiods\\\n",
    "# but not as much as the other factors so far based on p val"
   ]
  },
  {
   "cell_type": "code",
   "execution_count": 112,
   "id": "f72d8b2e",
   "metadata": {},
   "outputs": [
    {
     "name": "stdout",
     "output_type": "stream",
     "text": [
      "                  df       sum_sq   mean_sq         F    PR(>F)\n",
      "time_period      1.0     0.438656  0.438656  7.435849  0.006395\n",
      "Residual     72718.0  4289.786315  0.058992       NaN       NaN\n"
     ]
    }
   ],
   "source": [
    "#check valence\n",
    "reg5 = ols('valence~time_period', data=df).fit()\n",
    "aov = sm.stats.anova_lm(reg5, type=2)\n",
    "print(aov)"
   ]
  },
  {
   "cell_type": "code",
   "execution_count": null,
   "id": "cf91d9c2",
   "metadata": {},
   "outputs": [],
   "source": [
    "#valence is below relative threshold, therefore there is a significant difference in valence between timeperiods\\\n",
    "# but not as much as the other factors so far based on p val"
   ]
  },
  {
   "cell_type": "code",
   "execution_count": 113,
   "id": "d406b9e1",
   "metadata": {},
   "outputs": [
    {
     "name": "stdout",
     "output_type": "stream",
     "text": [
      "                  df        sum_sq    mean_sq           F         PR(>F)\n",
      "time_period      1.0     76.579728  76.579728  516.876285  5.066406e-114\n",
      "Residual     72718.0  10773.805736   0.148159         NaN            NaN\n"
     ]
    }
   ],
   "source": [
    "#check explicit\n",
    "reg6 = ols('explicit~time_period', data=df).fit()\n",
    "aov = sm.stats.anova_lm(reg6, type=2)\n",
    "print(aov)"
   ]
  },
  {
   "cell_type": "code",
   "execution_count": null,
   "id": "cb338136",
   "metadata": {},
   "outputs": [],
   "source": [
    "#explicit is below relative threshold, therefore there is a significant difference in explicit between timeperiods"
   ]
  },
  {
   "cell_type": "code",
   "execution_count": null,
   "id": "b5fcb158",
   "metadata": {},
   "outputs": [],
   "source": [
    "# based on the above, time_period seems to impact danceability the most and there is a significant difference in\\\n",
    "# danceability scores released in covid era vs. pre-covid era"
   ]
  }
 ],
 "metadata": {
  "kernelspec": {
   "display_name": "Python 3",
   "language": "python",
   "name": "python3"
  },
  "language_info": {
   "codemirror_mode": {
    "name": "ipython",
    "version": 3
   },
   "file_extension": ".py",
   "mimetype": "text/x-python",
   "name": "python",
   "nbconvert_exporter": "python",
   "pygments_lexer": "ipython3",
   "version": "3.8.8"
  }
 },
 "nbformat": 4,
 "nbformat_minor": 5
}
